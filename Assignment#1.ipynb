{
 "cells": [
  {
   "cell_type": "code",
   "execution_count": 6,
   "id": "10f0683f",
   "metadata": {},
   "outputs": [
    {
     "name": "stdout",
     "output_type": "stream",
     "text": [
      "Twinkle, twinkle, little star,\n",
      "         How I wonder what you are!\n",
      "               Up above the world so high,\n",
      "               Like a diamond in the sky.\n",
      "Twinkle, twinkle, little star,\n",
      "         How I wonder what you are!\n"
     ]
    }
   ],
   "source": [
    "print('Twinkle, twinkle, little star,')\n",
    "print(\"         How I wonder what you are!\")\n",
    "print('               Up above the world so high,')\n",
    "print('               Like a diamond in the sky.')\n",
    "print('Twinkle, twinkle, little star,')\n",
    "print(\"         How I wonder what you are!\")"
   ]
  },
  {
   "cell_type": "code",
   "execution_count": 7,
   "id": "19ed5098",
   "metadata": {},
   "outputs": [
    {
     "name": "stdout",
     "output_type": "stream",
     "text": [
      "3.9.7 (default, Sep 16 2021, 16:59:28) [MSC v.1916 64 bit (AMD64)]\n"
     ]
    }
   ],
   "source": [
    "import sys\n",
    "print(sys.version)"
   ]
  },
  {
   "cell_type": "code",
   "execution_count": 21,
   "id": "5e9a6bc9",
   "metadata": {},
   "outputs": [
    {
     "name": "stdout",
     "output_type": "stream",
     "text": [
      "Current date and time : \n",
      "date =  31-12-2021\n",
      "time =  11:38:17\n"
     ]
    }
   ],
   "source": [
    "import datetime\n",
    "now = datetime.datetime.now()\n",
    "print (\"Current date and time : \")\n",
    "print ('date = ' , now.strftime(\"%d-%m-%Y\"))\n",
    "print ('time = ' , now.strftime(\"%H:%M:%S\"))"
   ]
  },
  {
   "cell_type": "code",
   "execution_count": 19,
   "id": "42b71e91",
   "metadata": {},
   "outputs": [
    {
     "name": "stdout",
     "output_type": "stream",
     "text": [
      "Enter the radius of circle: 4\n",
      "pi =  3.141592653589793\n",
      "Area =  50.26548245743669\n"
     ]
    }
   ],
   "source": [
    "import math\n",
    "r=int(input('Enter the radius of circle: '))\n",
    "p=math.pi\n",
    "print(\"pi = \" , p)\n",
    "A=p*r*r\n",
    "print('Area = ' , A)"
   ]
  },
  {
   "cell_type": "code",
   "execution_count": 24,
   "id": "c28b690a",
   "metadata": {},
   "outputs": [
    {
     "name": "stdout",
     "output_type": "stream",
     "text": [
      "Enter your First name: Rubab\n",
      "Enter your Last name: Bukhari\n",
      "Bukhari   Rubab\n"
     ]
    }
   ],
   "source": [
    "a=input('Enter your First name: ')\n",
    "b=input('Enter your Last name: ')\n",
    "print (b, \" \", a)"
   ]
  },
  {
   "cell_type": "code",
   "execution_count": 25,
   "id": "c37d08fd",
   "metadata": {},
   "outputs": [
    {
     "name": "stdout",
     "output_type": "stream",
     "text": [
      "Enter First Number: 45\n",
      "Enter Second Number: 45\n",
      "sum =  90\n"
     ]
    }
   ],
   "source": [
    "a=int(input('Enter First Number: '))\n",
    "b=int(input('Enter Second Number: '))\n",
    "c=a+b\n",
    "print('sum = ' , c)"
   ]
  },
  {
   "cell_type": "code",
   "execution_count": null,
   "id": "bf68c8a5",
   "metadata": {},
   "outputs": [],
   "source": []
  }
 ],
 "metadata": {
  "kernelspec": {
   "display_name": "Python 3 (ipykernel)",
   "language": "python",
   "name": "python3"
  },
  "language_info": {
   "codemirror_mode": {
    "name": "ipython",
    "version": 3
   },
   "file_extension": ".py",
   "mimetype": "text/x-python",
   "name": "python",
   "nbconvert_exporter": "python",
   "pygments_lexer": "ipython3",
   "version": "3.9.7"
  }
 },
 "nbformat": 4,
 "nbformat_minor": 5
}
